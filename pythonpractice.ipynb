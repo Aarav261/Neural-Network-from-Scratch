{
  "nbformat": 4,
  "nbformat_minor": 0,
  "metadata": {
    "colab": {
      "provenance": []
    },
    "kernelspec": {
      "name": "python3",
      "display_name": "Python 3"
    },
    "language_info": {
      "name": "python"
    }
  },
  "cells": [
    {
      "cell_type": "code",
      "source": [
        "import torch"
      ],
      "metadata": {
        "id": "onsEd9SjPUk1"
      },
      "execution_count": 12,
      "outputs": []
    },
    {
      "cell_type": "code",
      "source": [
        "a = torch.tensor(2.0, requires_grad= True)\n",
        "b = torch.tensor(3.0, requires_grad= True)\n",
        "x = torch.tensor(4.0, requires_grad = True)"
      ],
      "metadata": {
        "id": "o14iQb9YRYaI"
      },
      "execution_count": 13,
      "outputs": []
    },
    {
      "cell_type": "code",
      "source": [
        "y = a + b"
      ],
      "metadata": {
        "id": "mbSujR0HRtyi"
      },
      "execution_count": 14,
      "outputs": []
    },
    {
      "cell_type": "code",
      "source": [
        "z = x * y"
      ],
      "metadata": {
        "id": "RG2CTW6ISCTu"
      },
      "execution_count": 15,
      "outputs": []
    },
    {
      "cell_type": "code",
      "source": [
        "z"
      ],
      "metadata": {
        "colab": {
          "base_uri": "https://localhost:8080/"
        },
        "id": "3-DqwM4FSGry",
        "outputId": "df800a88-90a7-41b6-bc87-a4be007e834a"
      },
      "execution_count": 16,
      "outputs": [
        {
          "output_type": "execute_result",
          "data": {
            "text/plain": [
              "tensor(20., grad_fn=<MulBackward0>)"
            ]
          },
          "metadata": {},
          "execution_count": 16
        }
      ]
    },
    {
      "cell_type": "code",
      "source": [
        "y.grad_fn"
      ],
      "metadata": {
        "colab": {
          "base_uri": "https://localhost:8080/"
        },
        "id": "vSYI2HWhSOZ6",
        "outputId": "e71c9706-4ed2-4790-f700-2f6b6ab8642e"
      },
      "execution_count": 17,
      "outputs": [
        {
          "output_type": "execute_result",
          "data": {
            "text/plain": [
              "<AddBackward0 at 0x7d769dc775e0>"
            ]
          },
          "metadata": {},
          "execution_count": 17
        }
      ]
    },
    {
      "cell_type": "code",
      "source": [
        "scores = torch.tensor([10., 20., 30.])"
      ],
      "metadata": {
        "id": "KA1vM1NASe5v"
      },
      "execution_count": 18,
      "outputs": []
    },
    {
      "cell_type": "code",
      "source": [
        "N = 10\n",
        "\n",
        "D_in = 1\n",
        "D_out = 1\n",
        "\n",
        "X = torch.randn(N, D_in)\n",
        "\n",
        "true_W = torch.tensor([[2.0]])\n",
        "true_b = torch.tensor(1.0)\n",
        "\n",
        "y_true = X @ true_W + true_b + torch.randn(N, D_out) * 0.1"
      ],
      "metadata": {
        "id": "RRSKC7Q9zImd"
      },
      "execution_count": 19,
      "outputs": []
    },
    {
      "cell_type": "code",
      "source": [
        "W = torch.randn(D_in, D_out, requires_grad= True)\n",
        "b = torch.randn(1, requires_grad= True)\n",
        "\n",
        "W, b"
      ],
      "metadata": {
        "colab": {
          "base_uri": "https://localhost:8080/"
        },
        "id": "oX7w29irzn5N",
        "outputId": "e12e14d6-b4b3-4221-fe6f-93bae94855ac"
      },
      "execution_count": 20,
      "outputs": [
        {
          "output_type": "execute_result",
          "data": {
            "text/plain": [
              "(tensor([[1.0649]], requires_grad=True), tensor([1.1475], requires_grad=True))"
            ]
          },
          "metadata": {},
          "execution_count": 20
        }
      ]
    },
    {
      "cell_type": "code",
      "source": [
        "y_hat = X @ W + b"
      ],
      "metadata": {
        "id": "WT34B7KIz1Ci"
      },
      "execution_count": 21,
      "outputs": []
    },
    {
      "cell_type": "code",
      "source": [
        "y_hat"
      ],
      "metadata": {
        "colab": {
          "base_uri": "https://localhost:8080/"
        },
        "id": "z6nfNQGU0I8i",
        "outputId": "91a5d5ce-7241-4dc8-dfcd-9a2fa85ae8b9"
      },
      "execution_count": 22,
      "outputs": [
        {
          "output_type": "execute_result",
          "data": {
            "text/plain": [
              "tensor([[ 6.6287e-01],\n",
              "        [ 1.5379e+00],\n",
              "        [ 2.9324e+00],\n",
              "        [ 9.5781e-01],\n",
              "        [ 1.4687e+00],\n",
              "        [ 3.1324e+00],\n",
              "        [ 3.2256e+00],\n",
              "        [ 1.9930e+00],\n",
              "        [-6.1056e-01],\n",
              "        [-2.9569e-03]], grad_fn=<AddBackward0>)"
            ]
          },
          "metadata": {},
          "execution_count": 22
        }
      ]
    },
    {
      "cell_type": "code",
      "source": [
        "y_true"
      ],
      "metadata": {
        "colab": {
          "base_uri": "https://localhost:8080/"
        },
        "id": "zu37ISNc0N6I",
        "outputId": "1c7665df-26d3-4e6a-adf0-585762a60425"
      },
      "execution_count": 23,
      "outputs": [
        {
          "output_type": "execute_result",
          "data": {
            "text/plain": [
              "tensor([[ 0.0082],\n",
              "        [ 1.9183],\n",
              "        [ 4.2902],\n",
              "        [ 0.8094],\n",
              "        [ 1.5905],\n",
              "        [ 4.7544],\n",
              "        [ 5.0511],\n",
              "        [ 2.4344],\n",
              "        [-2.3793],\n",
              "        [-1.0495]])"
            ]
          },
          "metadata": {},
          "execution_count": 23
        }
      ]
    },
    {
      "cell_type": "code",
      "source": [
        "error = y_hat - y_true\n",
        "squared_error = error ** 2\n",
        "loss = squared_error.mean()\n",
        "\n",
        "loss"
      ],
      "metadata": {
        "colab": {
          "base_uri": "https://localhost:8080/"
        },
        "id": "9bQy2iEM0kzz",
        "outputId": "a18e9232-f59c-44bd-d245-e185a022a00a"
      },
      "execution_count": 24,
      "outputs": [
        {
          "output_type": "execute_result",
          "data": {
            "text/plain": [
              "tensor(1.2836, grad_fn=<MeanBackward0>)"
            ]
          },
          "metadata": {},
          "execution_count": 24
        }
      ]
    },
    {
      "cell_type": "code",
      "source": [
        "loss.backward()"
      ],
      "metadata": {
        "id": "00wNUIXNOxM3"
      },
      "execution_count": 25,
      "outputs": []
    },
    {
      "cell_type": "code",
      "source": [
        "W.grad"
      ],
      "metadata": {
        "colab": {
          "base_uri": "https://localhost:8080/"
        },
        "id": "A08PetmePMFZ",
        "outputId": "230ed02a-3c43-42c6-d09c-3a5cd05e72c1"
      },
      "execution_count": 26,
      "outputs": [
        {
          "output_type": "execute_result",
          "data": {
            "text/plain": [
              "tensor([[-2.7527]])"
            ]
          },
          "metadata": {},
          "execution_count": 26
        }
      ]
    },
    {
      "cell_type": "code",
      "source": [
        "b.grad"
      ],
      "metadata": {
        "colab": {
          "base_uri": "https://localhost:8080/"
        },
        "id": "ve0lu-pKP_1p",
        "outputId": "cbe4d241-a2cb-4a99-f2bf-87eb5960a333"
      },
      "execution_count": 27,
      "outputs": [
        {
          "output_type": "execute_result",
          "data": {
            "text/plain": [
              "tensor([-0.4261])"
            ]
          },
          "metadata": {},
          "execution_count": 27
        }
      ]
    },
    {
      "cell_type": "code",
      "source": [
        "import torch"
      ],
      "metadata": {
        "id": "ws67P0xf5Us2"
      },
      "execution_count": 28,
      "outputs": []
    },
    {
      "cell_type": "code",
      "source": [
        " learning_rate, epochs = 0.01, 100\n",
        " W, b = torch.randn(1,1, requires_grad= True), torch.randn(1, requires_grad= True)"
      ],
      "metadata": {
        "id": "F23g2jqDQBnN"
      },
      "execution_count": 29,
      "outputs": []
    },
    {
      "cell_type": "code",
      "source": [
        "y_hat = X @ W + b\n",
        "loss = torch.mean((y_hat - y_true) ** 2)\n",
        "loss.backward()"
      ],
      "metadata": {
        "id": "5j3XPZtTZH6R"
      },
      "execution_count": 30,
      "outputs": []
    },
    {
      "cell_type": "code",
      "source": [
        "with torch.no_grad():\n",
        "  W -= learning_rate * W.grad\n",
        "  b -= learning_rate * b.grad\n",
        "\n",
        "W.grad.zero_(); b.grad.zero_()"
      ],
      "metadata": {
        "colab": {
          "base_uri": "https://localhost:8080/"
        },
        "id": "EuY6-hnDZZ-z",
        "outputId": "3f94c99b-6b72-4b7b-a8cd-104d3ad2b3fa"
      },
      "execution_count": 31,
      "outputs": [
        {
          "output_type": "execute_result",
          "data": {
            "text/plain": [
              "tensor([0.])"
            ]
          },
          "metadata": {},
          "execution_count": 31
        }
      ]
    },
    {
      "cell_type": "code",
      "source": [
        "for epoch in range(epochs):\n",
        "  y_hat = X @ W + b\n",
        "  loss = torch.mean((y_hat - y_true) ** 2)\n",
        "  loss.backward()\n",
        "\n",
        "  with torch.no_grad():\n",
        "    W -= learning_rate * W.grad\n",
        "    b -= learning_rate * b.grad\n",
        "\n",
        "  W.grad.zero_(); b.grad.zero_()\n",
        "\n",
        "  if epoch % 10 == 0:\n",
        "    print(f\"Epoch: {epoch} | Loss: {loss}\")"
      ],
      "metadata": {
        "colab": {
          "base_uri": "https://localhost:8080/"
        },
        "id": "DVI8P3a2ZqF6",
        "outputId": "536b5092-63ce-4ef5-8a47-4dca334e655e"
      },
      "execution_count": 32,
      "outputs": [
        {
          "output_type": "stream",
          "name": "stdout",
          "text": [
            "Epoch: 0 | Loss: 9.393960952758789\n",
            "Epoch: 10 | Loss: 4.7712931632995605\n",
            "Epoch: 20 | Loss: 2.4370367527008057\n",
            "Epoch: 30 | Loss: 1.2553638219833374\n",
            "Epoch: 40 | Loss: 0.6550399661064148\n",
            "Epoch: 50 | Loss: 0.3485402464866638\n",
            "Epoch: 60 | Loss: 0.19097492098808289\n",
            "Epoch: 70 | Loss: 0.10920938104391098\n",
            "Epoch: 80 | Loss: 0.06624113023281097\n",
            "Epoch: 90 | Loss: 0.04328678920865059\n"
          ]
        }
      ]
    },
    {
      "cell_type": "code",
      "source": [],
      "metadata": {
        "id": "ule90tpq5O_T"
      },
      "execution_count": 32,
      "outputs": []
    }
  ]
}